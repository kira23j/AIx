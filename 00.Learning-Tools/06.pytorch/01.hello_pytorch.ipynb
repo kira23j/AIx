{
  "nbformat": 4,
  "nbformat_minor": 0,
  "metadata": {
    "colab": {
      "provenance": []
    },
    "kernelspec": {
      "name": "python3",
      "display_name": "Python 3"
    },
    "language_info": {
      "name": "python"
    }
  },
  "cells": [
    {
      "cell_type": "code",
      "execution_count": 3,
      "metadata": {
        "colab": {
          "base_uri": "https://localhost:8080/"
        },
        "id": "ftVl7WHogVM6",
        "outputId": "6f1be59f-d8be-400f-84c1-eb4e1b418d9d"
      },
      "outputs": [
        {
          "output_type": "stream",
          "name": "stdout",
          "text": [
            "Hello, PyTorch!\n"
          ]
        }
      ],
      "source": [
        "import torch\n",
        "\n",
        "ascii_values = [ord(char) for char in \"Hello, PyTorch!\"]\n",
        "tensor_data = torch.tensor(ascii_values, dtype=torch.int8)\n",
        "hello_string = ''.join([chr(item) for item in tensor_data])\n",
        "print(hello_string)\n"
      ]
    },
    {
      "cell_type": "code",
      "source": [],
      "metadata": {
        "id": "NnMVr-86gpJJ"
      },
      "execution_count": null,
      "outputs": []
    }
  ]
}